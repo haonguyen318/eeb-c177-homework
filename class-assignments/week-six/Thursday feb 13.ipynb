{
 "cells": [
  {
   "cell_type": "code",
   "execution_count": null,
   "metadata": {},
   "outputs": [],
   "source": [
    "#challenge prob\n",
    "zz = input (\"enter temperature ie 0 C or 32 F\")\n",
    "if zz[-1] == \"C\":\n",
    "    xx == zz[0:-2]\n",
    "    yy = float(xx) * 9/5 + 32\n",
    "    print(\"the temp in F is {}\".format(yy))\n",
    "if zz[-1] == \"C\":\n",
    "    xx == zz[0:-2]\n",
    "    yy = float(xx) * 9/5 + 32\n",
    "    print(\"the temp in F is {}\". format(yy))"
   ]
  },
  {
   "cell_type": "code",
   "execution_count": null,
   "metadata": {},
   "outputs": [],
   "source": [
    "zz = input (\"enter temperature ie 0 C or 32 F\")\n",
    "if zz[-1] == \"C\":\n",
    "    xx == zz[0:-2]\n",
    "    yy = float(xx) * 9/5 + 32\n",
    "    print(\"the temp in F is {}\".format(yy))\n",
    "if zz[-1] == \"F\":\n",
    "    xx == zz[0:-2]\n",
    "    yy = (float(xx) -32) + 5/9\n",
    "    print(\"the temp in C is {}\". format(yy))"
   ]
  },
  {
   "cell_type": "code",
   "execution_count": null,
   "metadata": {},
   "outputs": [],
   "source": [
    "xx = input(\"What is the temperature?\")\n",
    "units = input(\"Would you like to convert to [0] Celsius or [1] Fahrenheit\")\n",
    "if(units.isdigit()):\n",
    "    print(units)\n",
    "    if int(units) == 0:\n",
    "        yy = (float(xx) - 32) * 5/9\n",
    "        print(\"THe temperature in Celsius is {}\".format(yy))\n",
    "    elif int(units) == 1:\n",
    "        yy = (float(xx) * 9/5 + 32)\n",
    "        print(\"The temperature in Fahrenheit is {}\".format(yy))\n",
    "    else: \n",
    "        print(\"{} is not a valid option. Please enter 0 or 1\".format(units))\n",
    "else:\n",
    "    print(\"{} is not a valid option. PLease enter 0 to 1\".format(units))"
   ]
  },
  {
   "cell_type": "code",
   "execution_count": null,
   "metadata": {},
   "outputs": [],
   "source": []
  }
 ],
 "metadata": {
  "kernelspec": {
   "display_name": "Python 3",
   "language": "python",
   "name": "python3"
  },
  "language_info": {
   "codemirror_mode": {
    "name": "ipython",
    "version": 3
   },
   "file_extension": ".py",
   "mimetype": "text/x-python",
   "name": "python",
   "nbconvert_exporter": "python",
   "pygments_lexer": "ipython3",
   "version": "3.7.5"
  }
 },
 "nbformat": 4,
 "nbformat_minor": 2
}
