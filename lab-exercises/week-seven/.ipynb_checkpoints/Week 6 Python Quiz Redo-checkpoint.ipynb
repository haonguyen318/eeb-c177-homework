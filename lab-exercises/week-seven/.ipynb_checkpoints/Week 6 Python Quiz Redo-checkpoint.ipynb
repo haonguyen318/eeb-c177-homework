{
 "cells": [
  {
   "cell_type": "markdown",
   "metadata": {},
   "source": [
    "## Week 6 Python Quiz Makeup"
   ]
  },
  {
   "cell_type": "markdown",
   "metadata": {},
   "source": [
    "1. What is a list in Python? Write the code to define a list with the name my_list and the values 45, 4, 3.32, 'abc', 10121. (5 points)"
   ]
  },
  {
   "cell_type": "code",
   "execution_count": 1,
   "metadata": {},
   "outputs": [],
   "source": [
    "#A list is an ordered collection of values, where each value can appear multiple times. \n",
    "#It is define by putting a pair of square brackets aroundthe values, and separating each\n",
    "#value by commas.\n",
    "my_list = [45, 4, 3.32, 'abc', 10121]"
   ]
  },
  {
   "cell_type": "code",
   "execution_count": 2,
   "metadata": {},
   "outputs": [
    {
     "name": "stdout",
     "output_type": "stream",
     "text": [
      "['1', '2', '3', '4', '5', '6', '7', '8', '9']\n"
     ]
    }
   ],
   "source": [
    "#I used the list function to organize the numbers in the parentheses into a list\n",
    "x = list(\"123456789\")\n",
    "print(x)"
   ]
  },
  {
   "cell_type": "code",
   "execution_count": 3,
   "metadata": {},
   "outputs": [
    {
     "data": {
      "text/plain": [
       "45"
      ]
     },
     "execution_count": 3,
     "metadata": {},
     "output_type": "execute_result"
    }
   ],
   "source": [
    "#retrieve elements from our list using an index of the element\n",
    "my_list[0] #to access the first element in the list"
   ]
  },
  {
   "cell_type": "markdown",
   "metadata": {},
   "source": [
    "2. In 25 words or less, describe the difference between dict() and defaultdict(). (5 points)"
   ]
  },
  {
   "cell_type": "code",
   "execution_count": 4,
   "metadata": {},
   "outputs": [],
   "source": [
    "#dict() is an unordered list in which the elements(values) are indexed by keys. The \n",
    "#differece with defaultdict() is that it will have a default value if a specific key \n",
    "#has not been set. "
   ]
  },
  {
   "cell_type": "code",
   "execution_count": 5,
   "metadata": {},
   "outputs": [],
   "source": [
    "#Dictionaries are defined by separating key:value pairs using commas and curly brackets. \n",
    "AnimalsInTheWild = {\"Zebras\": 244.0, \"Elephants\": 168.0, \"Tigers\": 382.0, \"Lions\": 228.0}"
   ]
  },
  {
   "cell_type": "code",
   "execution_count": 6,
   "metadata": {},
   "outputs": [
    {
     "data": {
      "text/plain": [
       "dict_keys(['Zebras', 'Elephants', 'Tigers', 'Lions'])"
      ]
     },
     "execution_count": 6,
     "metadata": {},
     "output_type": "execute_result"
    }
   ],
   "source": [
    "AnimalsInTheWild.keys() #list out the keys in the dictionary"
   ]
  },
  {
   "cell_type": "code",
   "execution_count": 7,
   "metadata": {},
   "outputs": [
    {
     "data": {
      "text/plain": [
       "dict_values([244.0, 168.0, 382.0, 228.0])"
      ]
     },
     "execution_count": 7,
     "metadata": {},
     "output_type": "execute_result"
    }
   ],
   "source": [
    "AnimalsInTheWild.values() #list out the values in the dictionary"
   ]
  },
  {
   "cell_type": "code",
   "execution_count": 8,
   "metadata": {},
   "outputs": [
    {
     "data": {
      "text/plain": [
       "dict_items([('Zebras', 244.0), ('Elephants', 168.0), ('Tigers', 382.0), ('Lions', 228.0)])"
      ]
     },
     "execution_count": 8,
     "metadata": {},
     "output_type": "execute_result"
    }
   ],
   "source": [
    "AnimalsInTheWild.items() #gives the keys and values"
   ]
  },
  {
   "cell_type": "code",
   "execution_count": 9,
   "metadata": {},
   "outputs": [
    {
     "data": {
      "text/plain": [
       "382.0"
      ]
     },
     "execution_count": 9,
     "metadata": {},
     "output_type": "execute_result"
    }
   ],
   "source": [
    "AnimalsInTheWild[\"Tigers\"] #to call a specific key"
   ]
  },
  {
   "cell_type": "markdown",
   "metadata": {},
   "source": [
    "3. What would the output be for the following Python code? (10 points)\n",
    "\n",
    "if 4 > 5:\n",
    "\n",
    "print('A')\n",
    "\n",
    "elif 4 == 5:\n",
    "\n",
    "print('B')\n",
    "\n",
    "elif 4 < 5:\n",
    "\n",
    "print('C')"
   ]
  },
  {
   "cell_type": "code",
   "execution_count": 10,
   "metadata": {},
   "outputs": [],
   "source": [
    "#The output for the following Python code would be 'C' since only the last statement that\n",
    "#4 is less than 5 is true."
   ]
  },
  {
   "cell_type": "code",
   "execution_count": 11,
   "metadata": {},
   "outputs": [
    {
     "name": "stdout",
     "output_type": "stream",
     "text": [
      "C\n"
     ]
    }
   ],
   "source": [
    "if 4 > 5:\n",
    "    print('A')\n",
    "elif 4 == 5:\n",
    "    print('B')\n",
    "elif 4 < 5:\n",
    "    print('C')"
   ]
  },
  {
   "cell_type": "code",
   "execution_count": 12,
   "metadata": {},
   "outputs": [
    {
     "name": "stdout",
     "output_type": "stream",
     "text": [
      "B\n"
     ]
    }
   ],
   "source": [
    "#I made another code in which it prints one of the true statement which in this case the\n",
    "#output would be 'B' since 3 times 2 is 6 which is less than 10.\n",
    "if 3 * 2 > 10:\n",
    "    print('A')\n",
    "elif 3 * 2 < 10:\n",
    "    print('B')"
   ]
  },
  {
   "cell_type": "markdown",
   "metadata": {},
   "source": [
    "4. Write code for a simple Python program. (40 points total)\n",
    "\n",
    "a) Write the Python code necessary to initialize the default dictionary collection\n",
    "with the name my_dict. (5 pts.) 1) Be sure to include the necessary import line\n",
    "of code to be able to use default dictionary. (5 pts.) 2) We will be using the\n",
    "default dictionary to count the elements of the list, so make sure to initialize the\n",
    "default dictionary with the proper data type for counting. (5 pts.) (15 points)"
   ]
  },
  {
   "cell_type": "code",
   "execution_count": 13,
   "metadata": {},
   "outputs": [],
   "source": [
    "#Have a default value for keys that weren't supplied a value. \n",
    "#The default integer value will be zero if there are no occurences\n",
    "from collections import defaultdict\n",
    "my_dict = defaultdict(int)"
   ]
  },
  {
   "cell_type": "markdown",
   "metadata": {},
   "source": [
    "b) Given one string separated by spaces, food_list, write the line of code necessary\n",
    "to split the string by spaces into a list of values separated by commas (like we\n",
    "did in lecture), and save it. (10 points)\n",
    "\n",
    "food_list = 'spam spam spam spam spam spam eggs spam'"
   ]
  },
  {
   "cell_type": "code",
   "execution_count": 14,
   "metadata": {},
   "outputs": [
    {
     "name": "stdout",
     "output_type": "stream",
     "text": [
      "['spam', 'spam', 'spam', 'spam', 'spam', 'spam', 'eggs', 'spam']\n"
     ]
    }
   ],
   "source": [
    "food_list = 'spam spam spam spam spam spam eggs spam'\n",
    "food_list = food_list.split()\n",
    "print(food_list)"
   ]
  },
  {
   "cell_type": "code",
   "execution_count": 15,
   "metadata": {},
   "outputs": [
    {
     "name": "stdout",
     "output_type": "stream",
     "text": [
      "['spam', 'spam', 'spam', 'spam', 'spam', 'spam', 'eggs', 'spam', 'eggs']\n"
     ]
    }
   ],
   "source": [
    "#I appended an element to the end of the list\n",
    "food_list.append('eggs')\n",
    "print(food_list)"
   ]
  },
  {
   "cell_type": "markdown",
   "metadata": {},
   "source": [
    "c) Using the my_dict default dictionary you made in (a), write a for loop that\n",
    "would return the counts of food_list into the my_dict default dictionary.\n",
    "(15 points)"
   ]
  },
  {
   "cell_type": "code",
   "execution_count": 16,
   "metadata": {},
   "outputs": [
    {
     "name": "stdout",
     "output_type": "stream",
     "text": [
      "defaultdict(<class 'int'>, {'spam': 7, 'eggs': 2})\n"
     ]
    }
   ],
   "source": [
    "#I created a for loop to count the food occurrences in list and then enter the count\n",
    "#into the dictionary I created earlier. \n",
    "for food in food_list:\n",
    "    my_dict[food] += 1 #this means food_list[food] = food_list[food] + 1\n",
    "    #this add 1 to itself so the count comes out to be correct\n",
    "print(my_dict)"
   ]
  },
  {
   "cell_type": "code",
   "execution_count": 21,
   "metadata": {},
   "outputs": [
    {
     "name": "stdout",
     "output_type": "stream",
     "text": [
      "7\n"
     ]
    }
   ],
   "source": [
    "print(my_dict['spam']) #print the number of spam"
   ]
  },
  {
   "cell_type": "code",
   "execution_count": 22,
   "metadata": {},
   "outputs": [
    {
     "name": "stdout",
     "output_type": "stream",
     "text": [
      "0\n"
     ]
    }
   ],
   "source": [
    "print(my_dict['bacon']) #there is no bacon in the list so it prints out zero"
   ]
  },
  {
   "cell_type": "markdown",
   "metadata": {},
   "source": [
    "5. Python has a subfunction for strings that allows you to capitalize the characters\n",
    "within that string. The .upper() function accomplishes this. For example, a string such\n",
    "as, x = ‘abc’ could be capitalized and saved as such by running x = x.upper()\n",
    "Given this, write a simple for loop that would iterate through a list of words (words)\n",
    "and save the all-caps versions in a new list called (bigwords). (10 points)"
   ]
  },
  {
   "cell_type": "code",
   "execution_count": 2,
   "metadata": {},
   "outputs": [
    {
     "name": "stdout",
     "output_type": "stream",
     "text": [
      "['DOGS', 'CATS', 'MICE', 'RATS']\n"
     ]
    }
   ],
   "source": [
    "#I used the .upper() function to capitalize each word in the list\n",
    "words = ['dogs', 'cats', 'mice', 'rats']\n",
    "bigwords = []\n",
    "for word in words:\n",
    "    bigwords.append(word.upper())\n",
    "print(bigwords)"
   ]
  },
  {
   "cell_type": "code",
   "execution_count": 4,
   "metadata": {},
   "outputs": [
    {
     "name": "stdout",
     "output_type": "stream",
     "text": [
      "['Dogs', 'Cats', 'Mice', 'Rats']\n"
     ]
    }
   ],
   "source": [
    "#I used the .capitalize() function to capitalize the first letter of each word\n",
    "capitalizefirstletter = []\n",
    "for word in words:\n",
    "    capitalizefirstletter.append(word.capitalize())\n",
    "print(capitalizefirstletter)"
   ]
  },
  {
   "cell_type": "code",
   "execution_count": 7,
   "metadata": {},
   "outputs": [
    {
     "name": "stdout",
     "output_type": "stream",
     "text": [
      "['nice', 'mean']\n"
     ]
    }
   ],
   "source": [
    "#I used the .lower() function to make all of the capitalize words to lower case words.\n",
    "allcapitalwords = ['NICE', 'MEAN']\n",
    "lowerwords = []\n",
    "for word in allcapitalwords:\n",
    "    lowerwords.append(word.lower())\n",
    "print(lowerwords)"
   ]
  },
  {
   "cell_type": "markdown",
   "metadata": {},
   "source": [
    "6. What would the output for the following code be. Write it as it would actually appear\n",
    "in the Jupyter Notebook output. (10 points)\n",
    "\n",
    "number = 10\n",
    "\n",
    "for x in range(number):\n",
    "\n",
    "output = x**2\n",
    "\n",
    "print(output)"
   ]
  },
  {
   "cell_type": "code",
   "execution_count": 8,
   "metadata": {},
   "outputs": [
    {
     "name": "stdout",
     "output_type": "stream",
     "text": [
      "0\n",
      "1\n",
      "4\n",
      "9\n",
      "16\n",
      "25\n",
      "36\n",
      "49\n",
      "64\n",
      "81\n"
     ]
    }
   ],
   "source": [
    "#The output for this code would include squaring each number from our range which starts at\n",
    "#0 and ends at 9. The output will be in an orderly vertical list.\n",
    "#0^2 = 0, 1^2 = 1, 2^2 = 4, 3^2 = 9...\n",
    "number = 10\n",
    "for x in range(number):\n",
    "    output = x**2\n",
    "    print(output)"
   ]
  },
  {
   "cell_type": "code",
   "execution_count": 13,
   "metadata": {},
   "outputs": [
    {
     "name": "stdout",
     "output_type": "stream",
     "text": [
      "3\n",
      "4\n",
      "5\n",
      "6\n",
      "7\n"
     ]
    }
   ],
   "source": [
    "#This code takes each number from the range which starts from 0 and ends at 4, and adds\n",
    "#3 to each number for the output.\n",
    "numbers = 5\n",
    "for y in range(numbers):\n",
    "    answer = y + 3\n",
    "    print(answer)"
   ]
  },
  {
   "cell_type": "markdown",
   "metadata": {},
   "source": [
    "7. Symbols for conditionals. (2.5 points each, 10 points total)\n",
    "\n",
    "a) Which symbol in Python is used to mean “equal to”?\n",
    "\n",
    "b) Which symbol in Python is used to mean “not equal to”?\n",
    "\n",
    "c) Which symbol in Python is used to mean “greater than or equal to”?\n",
    "\n",
    "d) Which symbol in Python is used to find the remainder?"
   ]
  },
  {
   "cell_type": "code",
   "execution_count": null,
   "metadata": {},
   "outputs": [],
   "source": [
    "#a ==\n",
    "#b !=\n",
    "#c >=\n",
    "#d %"
   ]
  },
  {
   "cell_type": "code",
   "execution_count": 15,
   "metadata": {},
   "outputs": [
    {
     "name": "stdout",
     "output_type": "stream",
     "text": [
      "z is not equal to 5\n",
      "z is greater than or equal to 5\n"
     ]
    }
   ],
   "source": [
    "z = 10\n",
    "if z == 5:\n",
    "    print ('z is equal to 5')\n",
    "if z != 5:\n",
    "    print ('z is not equal to 5')\n",
    "if z >= 5:\n",
    "    print ('z is greater than or equal to 5')\n",
    "if z % 5: \n",
    "    print ('z is divisible by 5')"
   ]
  },
  {
   "cell_type": "markdown",
   "metadata": {},
   "source": [
    "8. What subfunction do you use to remove the last element of a list? (5 points)"
   ]
  },
  {
   "cell_type": "code",
   "execution_count": 17,
   "metadata": {},
   "outputs": [],
   "source": [
    "#we would use the subfunction .pop() to remove the last element in a list"
   ]
  },
  {
   "cell_type": "code",
   "execution_count": 18,
   "metadata": {},
   "outputs": [
    {
     "name": "stdout",
     "output_type": "stream",
     "text": [
      "['Thailand', 'Vietnam', 'Korea', 'China']\n"
     ]
    }
   ],
   "source": [
    "#this code removes the last element from the list which in this case is 'Singapore'\n",
    "AsianCountries = ['Thailand', 'Vietnam', 'Korea', 'China', 'Singapore']\n",
    "AsianCountries.pop()\n",
    "print(AsianCountries)"
   ]
  },
  {
   "cell_type": "markdown",
   "metadata": {},
   "source": [
    "9. How do you find the length of a list with the name mylist? Make sure to write the\n",
    "code necessary to do this (you can show an example with mylist – no need to define\n",
    "what the values are). (5 points)"
   ]
  },
  {
   "cell_type": "code",
   "execution_count": 20,
   "metadata": {},
   "outputs": [
    {
     "data": {
      "text/plain": [
       "11"
      ]
     },
     "execution_count": 20,
     "metadata": {},
     "output_type": "execute_result"
    }
   ],
   "source": [
    "#the function len() returns the length of the variable specified within the parentheses.\n",
    "mylist = ['Kelvin', 'Kelvin', 'Khoa', 'Khoa', 'Khoa', 'Lizette', 'Ale', 'Angie', 'Ana', \n",
    "          'Aaron', 'Cristina']\n",
    "len(mylist)"
   ]
  },
  {
   "cell_type": "code",
   "execution_count": 21,
   "metadata": {},
   "outputs": [
    {
     "name": "stdout",
     "output_type": "stream",
     "text": [
      "8\n"
     ]
    }
   ],
   "source": [
    "#sets are lists without duplicate elements\n",
    "print(len(set(mylist))) #doesn't count the multiple 'Kelvin' and 'Khoa'"
   ]
  },
  {
   "cell_type": "markdown",
   "metadata": {},
   "source": [
    "Extra Credit\n",
    "\n",
    "Write a for loop that prints a list containing the even numbers from 0 to 100.\n",
    "(10 points)"
   ]
  },
  {
   "cell_type": "code",
   "execution_count": 22,
   "metadata": {},
   "outputs": [
    {
     "name": "stdout",
     "output_type": "stream",
     "text": [
      "0\n",
      "2\n",
      "4\n",
      "6\n",
      "8\n",
      "10\n",
      "12\n",
      "14\n",
      "16\n",
      "18\n",
      "20\n",
      "22\n",
      "24\n",
      "26\n",
      "28\n",
      "30\n",
      "32\n",
      "34\n",
      "36\n",
      "38\n",
      "40\n",
      "42\n",
      "44\n",
      "46\n",
      "48\n",
      "50\n",
      "52\n",
      "54\n",
      "56\n",
      "58\n",
      "60\n",
      "62\n",
      "64\n",
      "66\n",
      "68\n",
      "70\n",
      "72\n",
      "74\n",
      "76\n",
      "78\n",
      "80\n",
      "82\n",
      "84\n",
      "86\n",
      "88\n",
      "90\n",
      "92\n",
      "94\n",
      "96\n",
      "98\n",
      "100\n"
     ]
    }
   ],
   "source": [
    "#list of even numbers\n",
    "for x in range(101): #range of number 0 to 100\n",
    "    if x % 2 == 0: #numbers divisible by 2\n",
    "        print(x)"
   ]
  },
  {
   "cell_type": "code",
   "execution_count": 23,
   "metadata": {},
   "outputs": [
    {
     "name": "stdout",
     "output_type": "stream",
     "text": [
      "0\n",
      "3\n",
      "6\n",
      "9\n",
      "12\n",
      "15\n",
      "18\n",
      "21\n",
      "24\n",
      "27\n",
      "30\n",
      "33\n",
      "36\n",
      "39\n",
      "42\n",
      "45\n",
      "48\n",
      "51\n",
      "54\n",
      "57\n",
      "60\n",
      "63\n",
      "66\n",
      "69\n",
      "72\n",
      "75\n",
      "78\n",
      "81\n",
      "84\n",
      "87\n",
      "90\n",
      "93\n",
      "96\n",
      "99\n"
     ]
    }
   ],
   "source": [
    "#list of odd numbers\n",
    "for y in range(101): #range 0 to 100\n",
    "    if y % 3 == 0: #numbers divisible by 3\n",
    "        print(y)"
   ]
  }
 ],
 "metadata": {
  "kernelspec": {
   "display_name": "Python 3",
   "language": "python",
   "name": "python3"
  },
  "language_info": {
   "codemirror_mode": {
    "name": "ipython",
    "version": 3
   },
   "file_extension": ".py",
   "mimetype": "text/x-python",
   "name": "python",
   "nbconvert_exporter": "python",
   "pygments_lexer": "ipython3",
   "version": "3.7.5"
  }
 },
 "nbformat": 4,
 "nbformat_minor": 2
}
